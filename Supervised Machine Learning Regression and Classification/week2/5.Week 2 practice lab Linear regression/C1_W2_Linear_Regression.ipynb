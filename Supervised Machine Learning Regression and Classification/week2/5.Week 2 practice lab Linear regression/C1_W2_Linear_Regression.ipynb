{
 "cells": [
  {
   "attachments": {},
   "cell_type": "markdown",
   "metadata": {},
   "source": [
    "# Practice Lab: Linear Regression\n",
    "\n",
    "Welcome to your first practice lab! In this lab, you will implement linear regression with one variable to predict profits for a restaurant franchise.\n",
    "\n",
    "\n",
    "# Outline\n",
    "- [ 1 - Packages ](#1)\n",
    "- [ 2 - Linear regression with one variable ](#2)\n",
    "  - [ 2.1 Problem Statement](#2.1)\n",
    "  - [ 2.2  Dataset](#2.2)\n",
    "  - [ 2.3 Refresher on linear regression](#2.3)\n",
    "  - [ 2.4  Compute Cost](#2.4)\n",
    "    - [ Exercise 1](#ex01)\n",
    "  - [ 2.5 Gradient descent ](#2.5)\n",
    "    - [ Exercise 2](#ex02)\n",
    "  - [ 2.6 Learning parameters using batch gradient descent ](#2.6)\n"
   ]
  },
  {
   "attachments": {},
   "cell_type": "markdown",
   "metadata": {},
   "source": [
    "<a name=\"1\"></a>\n",
    "## 1 - Packages \n",
    "\n",
    "First, let's run the cell below to import all the packages that you will need during this assignment.\n",
    "- [numpy](www.numpy.org) is the fundamental package for working with matrices in Python.\n",
    "- [matplotlib](http://matplotlib.org) is a famous library to plot graphs in Python.\n",
    "- ``utils.py`` contains helper functions for this assignment. You do not need to modify code in this file.\n"
   ]
  },
  {
   "cell_type": "code",
   "execution_count": 2,
   "metadata": {
    "vscode": {
     "languageId": "python"
    }
   },
   "outputs": [],
   "source": [
    "import numpy as np\n",
    "import matplotlib.pyplot as plt\n",
    "from utils import *\n",
    "import copy\n",
    "import math\n",
    "%matplotlib widget"
   ]
  },
  {
   "attachments": {},
   "cell_type": "markdown",
   "metadata": {},
   "source": [
    "## 2 -  Problem Statement\n",
    "\n",
    "假设您是一家餐厅连锁店的CEO，并考虑开设新分店的不同城市。\n",
    "- 您希望将业务扩展到可能为您的餐厅带来更高利润的城市。\n",
    "- 该连锁店已经在各个城市拥有餐厅，您拥有来自这些城市的利润和人口数据。\n",
    "- 您还有关于候选新餐厅所在城市的数据。\n",
    "    - 对于这些城市，您有城市人口数据。\n",
    "    \n",
    "您能使用这些数据帮助您确定哪些城市可能会给您的业务带来更高的利润吗？\n",
    "\n",
    "## 3 - Dataset\n",
    "\n",
    "You will start by loading the dataset for this task. \n",
    "- 下面显示的“load_data（）”函数将数据加载到变量“x_train”和“y_train”中\n",
    "  - “x_train”是城市的人口\n",
    "  - “y_train”是该城市餐厅的利润。利润为负值表示亏损。  \n",
    "  - “X_train”和“y_train”都是numpy数组。"
   ]
  },
  {
   "cell_type": "code",
   "execution_count": 3,
   "metadata": {
    "vscode": {
     "languageId": "python"
    }
   },
   "outputs": [],
   "source": [
    "# load the dataset\n",
    "x_train, y_train = load_data()"
   ]
  },
  {
   "attachments": {},
   "cell_type": "markdown",
   "metadata": {},
   "source": [
    "#### View the variables\n",
    "在开始任何任务之前，熟悉数据集更有用。 \n",
    "- 一个好的开始是打印出每个变量并查看其包含的内容\n",
    "\n",
    "以下代码打印变量“x_train”和变量的类型。"
   ]
  },
  {
   "cell_type": "code",
   "execution_count": 6,
   "metadata": {
    "vscode": {
     "languageId": "python"
    }
   },
   "outputs": [
    {
     "name": "stdout",
     "output_type": "stream",
     "text": [
      "Type of x_train: <class 'numpy.ndarray'>\n",
      "First five elements of x_train are:\n",
      " [6.1101 5.5277 8.5186 7.0032 5.8598]\n"
     ]
    }
   ],
   "source": [
    "# print x_train\n",
    "print(\"Type of x_train:\",type(x_train))\n",
    "print(\"First five elements of x_train are:\\n\", x_train[:5]) "
   ]
  },
  {
   "attachments": {},
   "cell_type": "markdown",
   "metadata": {},
   "source": [
    "\n",
    "x_train是一个包含所有大于零的小数值的numpy数组\n",
    "- 这些值乘以10,000代表城市人口\n",
    "- 例如，6.1101表示该城市的人口为61,101\n",
    "  \n",
    "现在，让我们打印y_train。"
   ]
  },
  {
   "cell_type": "code",
   "execution_count": 7,
   "metadata": {
    "vscode": {
     "languageId": "python"
    }
   },
   "outputs": [
    {
     "name": "stdout",
     "output_type": "stream",
     "text": [
      "Type of y_train: <class 'numpy.ndarray'>\n",
      "First five elements of y_train are:\n",
      " [17.592   9.1302 13.662  11.854   6.8233]\n"
     ]
    }
   ],
   "source": [
    "# print y_train\n",
    "print(\"Type of y_train:\",type(y_train))\n",
    "print(\"First five elements of y_train are:\\n\", y_train[:5])  "
   ]
  },
  {
   "attachments": {},
   "cell_type": "markdown",
   "metadata": {},
   "source": [
    "同样，y_train是一个numpy数组，具有小数值，有些为负，有些为正。\n",
    "- 这些代表您在每个城市的餐厅的平均每月利润，单位为10,000美元。\n",
    "  - 例如，17.592表示该城市的平均每月利润为175,920美元。\n",
    "  - -2.6807表示该城市平均每月亏损26,807美元。"
   ]
  },
  {
   "attachments": {},
   "cell_type": "markdown",
   "metadata": {},
   "source": [
    "#### 检查变量的维度\n",
    "\n",
    "另一种熟悉数据的有用方法是查看其维度。\n",
    "\n",
    "请打印x_train和y_train的形状，并查看您的数据集中有多少个训练示例。"
   ]
  },
  {
   "cell_type": "code",
   "execution_count": 8,
   "metadata": {
    "vscode": {
     "languageId": "python"
    }
   },
   "outputs": [
    {
     "name": "stdout",
     "output_type": "stream",
     "text": [
      "The shape of x_train is: (97,)\n",
      "The shape of y_train is:  (97,)\n",
      "Number of training examples (m): 97\n"
     ]
    }
   ],
   "source": [
    "print ('The shape of x_train is:', x_train.shape)\n",
    "print ('The shape of y_train is: ', y_train.shape)\n",
    "print ('Number of training examples (m):', len(x_train))"
   ]
  },
  {
   "attachments": {},
   "cell_type": "markdown",
   "metadata": {},
   "source": [
    "The city population array has 97 data points, and the monthly average profits also has 97 data points. These are NumPy 1D arrays."
   ]
  },
  {
   "attachments": {},
   "cell_type": "markdown",
   "metadata": {},
   "source": [
    "#### Visualize your data\n",
    "\n",
    "It is often useful to understand the data by visualizing it. \n",
    "- For this dataset, you can use a scatter plot to visualize the data, since it has only two properties to plot (profit and population). \n",
    "- Many other problems that you will encounter in real life have more than two properties (for example, population, average household income, monthly profits, monthly sales).When you have more than two properties, you can still use a scatter plot to see the relationship between each pair of properties.\n"
   ]
  },
  {
   "cell_type": "code",
   "execution_count": 9,
   "metadata": {
    "vscode": {
     "languageId": "python"
    }
   },
   "outputs": [
    {
     "data": {
      "application/vnd.jupyter.widget-view+json": {
       "model_id": "c23f35af16274db8b8be16af6f90375f",
       "version_major": 2,
       "version_minor": 0
      },
      "image/png": "[encoded data removed]",
      "text/html": [
       "\n",
       "            <div style=\"display: inline-block;\">\n",
       "                <div class=\"jupyter-widgets widget-label\" style=\"text-align: center;\">\n",
       "                    Figure\n",
       "                </div>\n",
       "                <img src='data:image/png;base64,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' width=640.0/>\n",
       "            </div>\n",
       "        "
      ],
      "text/plain": [
       "Canvas(toolbar=Toolbar(toolitems=[('Home', 'Reset original view', 'home', 'home'), ('Back', 'Back to previous …"
      ]
     },
     "metadata": {},
     "output_type": "display_data"
    }
   ],
   "source": [
    "# Create a scatter plot of the data. To change the markers to red \"x\",\n",
    "# we used the 'marker' and 'c' parameters\n",
    "plt.scatter(x_train, y_train, marker='x', c='r') \n",
    "\n",
    "# Set the title\n",
    "plt.title(\"Profits vs. Population per city\")\n",
    "# Set the y-axis label\n",
    "plt.ylabel('Profit in $10,000')\n",
    "# Set the x-axis label\n",
    "plt.xlabel('Population of City in 10,000s')\n",
    "plt.show()"
   ]
  },
  {
   "attachments": {},
   "cell_type": "markdown",
   "metadata": {},
   "source": [
    "Your goal is to build a linear regression model to fit this data.\n",
    "- With this model, you can then input a new city's population, and have the model estimate your restaurant's potential monthly profits for that city."
   ]
  },
  {
   "attachments": {},
   "cell_type": "markdown",
   "metadata": {},
   "source": [
    "<a name=\"4\"></a>\n",
    "## 4 - Refresher on linear regression\n",
    "\n",
    "In this practice lab, you will fit the linear regression parameters $(w,b)$ to your dataset.\n",
    "- The model function for linear regression, which is a function that maps from `x` (city population) to `y` (your restaurant's monthly profit for that city) is represented as \n",
    "    $$f_{w,b}(x) = wx + b$$\n",
    "    \n",
    "\n",
    "- To train a linear regression model, you want to find the best $(w,b)$ parameters that fit your dataset.  \n",
    "\n",
    "    - To compare how one choice of $(w,b)$ is better or worse than another choice, you can evaluate it with a cost function $J(w,b)$\n",
    "      - $J$ is a function of $(w,b)$. That is, the value of the cost $J(w,b)$ depends on the value of $(w,b)$.\n",
    "  \n",
    "    - The choice of $(w,b)$ that fits your data the best is the one that has the smallest cost $J(w,b)$.\n",
    "\n",
    "\n",
    "- To find the values $(w,b)$ that gets the smallest possible cost $J(w,b)$, you can use a method called **gradient descent**. \n",
    "  - With each step of gradient descent, your parameters $(w,b)$ come closer to the optimal values that will achieve the lowest cost $J(w,b)$.\n",
    "  \n",
    "\n",
    "- The trained linear regression model can then take the input feature $x$ (city population) and output a prediction $f_{w,b}(x)$ (predicted monthly profit for a restaurant in that city)."
   ]
  },
  {
   "attachments": {},
   "cell_type": "markdown",
   "metadata": {},
   "source": [
    "<a name=\"5\"></a>\n",
    "## 5 - Compute Cost\n",
    "\n",
    "Gradient descent involves repeated steps to adjust the value of your parameter $(w,b)$ to gradually get a smaller and smaller cost $J(w,b)$.\n",
    "- At each step of gradient descent, it will be helpful for you to monitor your progress by computing the cost $J(w,b)$ as $(w,b)$ gets updated. \n",
    "- In this section, you will implement a function to calculate $J(w,b)$ so that you can check the progress of your gradient descent implementation.\n",
    "\n",
    "#### Cost function\n",
    "As you may recall from the lecture, for one variable, the cost function for linear regression $J(w,b)$ is defined as\n",
    "\n",
    "$$J(w,b) = \\frac{1}{2m} \\sum\\limits_{i = 0}^{m-1} (f_{w,b}(x^{(i)}) - y^{(i)})^2$$ \n",
    "\n",
    "- You can think of $f_{w,b}(x^{(i)})$ as the model's prediction of your restaurant's profit, as opposed to $y^{(i)}$, which is the actual profit that is recorded in the data.\n",
    "- $m$ is the number of training examples in the dataset\n",
    "\n",
    "#### Model prediction\n",
    "\n",
    "- For linear regression with one variable, the prediction of the model $f_{w,b}$ for an example $x^{(i)}$ is representented as:\n",
    "\n",
    "$$ f_{w,b}(x^{(i)}) = wx^{(i)} + b$$\n",
    "\n",
    "This is the equation for a line, with an intercept $b$ and a slope $w$\n",
    "\n",
    "#### Implementation\n",
    "\n",
    "Please complete the `compute_cost()` function below to compute the cost $J(w,b)$."
   ]
  },
  {
   "attachments": {},
   "cell_type": "markdown",
   "metadata": {},
   "source": [
    "<a name=\"ex01\"></a>\n",
    "### Exercise 1\n",
    "\n",
    "Complete the `compute_cost` below to:\n",
    "\n",
    "* Iterate over the training examples, and for each example, compute:\n",
    "    * The prediction of the model for that example \n",
    "    $$\n",
    "    f_{wb}(x^{(i)}) =  wx^{(i)} + b \n",
    "    $$\n",
    "   \n",
    "    * The cost for that example  $$cost^{(i)} =  (f_{wb} - y^{(i)})^2$$\n",
    "    \n",
    "\n",
    "* Return the total cost over all examples\n",
    "$$J(\\mathbf{w},b) = \\frac{1}{2m} \\sum\\limits_{i = 0}^{m-1} cost^{(i)}$$\n",
    "  * Here, $m$ is the number of training examples and $\\sum$ is the summation operator\n",
    "\n",
    "If you get stuck, you can check out the hints presented after the cell below to help you with the implementation."
   ]
  },
  {
   "cell_type": "code",
   "execution_count": 10,
   "metadata": {
    "vscode": {
     "languageId": "python"
    }
   },
   "outputs": [],
   "source": [
    "# UNQ_C1\n",
    "# GRADED FUNCTION: compute_cost\n",
    "\n",
    "def compute_cost(x, y, w, b): \n",
    "    \"\"\"\n",
    "    Computes the cost function for linear regression.\n",
    "    \n",
    "    Args:\n",
    "        x (ndarray): Shape (m,) Input to the model (Population of cities) \n",
    "        y (ndarray): Shape (m,) Label (Actual profits for the cities)\n",
    "        w, b (scalar): Parameters of the model\n",
    "    \n",
    "    Returns\n",
    "        total_cost (float): The cost of using w,b as the parameters for linear regression\n",
    "               to fit the data points in x and y\n",
    "    \"\"\"\n",
    "    # number of training examples\n",
    "    m = x.shape[0] \n",
    "    f_x_b = w * x + b\n",
    "    # You need to return this variable correctly\n",
    "    total_cost = 0\n",
    "    \n",
    "    ### START CODE HERE ###  \n",
    "    for i in range(m):\n",
    "        cost = (f_x_b[i] - y[i])**2\n",
    "        total_cost += cost\n",
    "    total_cost = total_cost / (2 * m)\n",
    "    ### END CODE HERE ### \n",
    "\n",
    "    return total_cost"
   ]
  },
  {
   "attachments": {},
   "cell_type": "markdown",
   "metadata": {},
   "source": [
    "<details>\n",
    "  <summary><font size=\"3\" color=\"darkgreen\"><b>Click for hints</b></font></summary>\n",
    "    \n",
    "    \n",
    "   * You can represent a summation operator eg: $h = \\sum\\limits_{i = 0}^{m-1} 2i$ in code as follows:\n",
    "     ```python \n",
    "    h = 0\n",
    "    for i in range(m):\n",
    "        h = h + 2*i\n",
    "    ```\n",
    "  \n",
    "   * In this case, you can iterate over all the examples in `x` using a for loop and add the `cost` from each iteration to a variable (`cost_sum`) initialized outside the loop.\n",
    "\n",
    "   * Then, you can return the `total_cost` as `cost_sum` divided by `2m`.\n",
    "     \n",
    "    <details>\n",
    "          <summary><font size=\"2\" color=\"darkblue\"><b> Click for more hints</b></font></summary>\n",
    "        \n",
    "    * Here's how you can structure the overall implementation for this function\n",
    "    ```python \n",
    "    def compute_cost(x, y, w, b):\n",
    "        # number of training examples\n",
    "        m = x.shape[0] \n",
    "    \n",
    "        # You need to return this variable correctly\n",
    "        total_cost = 0\n",
    "    \n",
    "        ### START CODE HERE ###  \n",
    "        # Variable to keep track of sum of cost from each example\n",
    "        cost_sum = 0\n",
    "    \n",
    "        # Loop over training examples\n",
    "        for i in range(m):\n",
    "            # Your code here to get the prediction f_wb for the ith example\n",
    "            f_wb = \n",
    "            # Your code here to get the cost associated with the ith example\n",
    "            cost = \n",
    "        \n",
    "            # Add to sum of cost for each example\n",
    "            cost_sum = cost_sum + cost \n",
    "\n",
    "        # Get the total cost as the sum divided by (2*m)\n",
    "        total_cost = (1 / (2 * m)) * cost_sum\n",
    "        ### END CODE HERE ### \n",
    "\n",
    "        return total_cost\n",
    "    ```\n",
    "    \n",
    "    If you're still stuck, you can check the hints presented below to figure out how to calculate `f_wb` and `cost`.\n",
    "    \n",
    "    <details>\n",
    "          <summary><font size=\"2\" color=\"darkblue\"><b>Hint to calculate f_wb</b></font></summary>\n",
    "           &emsp; &emsp; For scalars $a$, $b$ and $c$ (<code>x[i]</code>, <code>w</code> and <code>b</code> are all scalars), you can calculate the equation $h = ab + c$ in code as <code>h = a * b + c</code>\n",
    "          <details>\n",
    "              <summary><font size=\"2\" color=\"blue\"><b>&emsp; &emsp; More hints to calculate f</b></font></summary>\n",
    "               &emsp; &emsp; You can compute f_wb as <code>f_wb = w * x[i] + b </code>\n",
    "           </details>\n",
    "    </details>\n",
    "\n",
    "     <details>\n",
    "          <summary><font size=\"2\" color=\"darkblue\"><b>Hint to calculate cost</b></font></summary>\n",
    "          &emsp; &emsp; You can calculate the square of a variable z as z**2\n",
    "          <details>\n",
    "              <summary><font size=\"2\" color=\"blue\"><b>&emsp; &emsp; More hints to calculate cost</b></font></summary>\n",
    "              &emsp; &emsp; You can compute cost as <code>cost = (f_wb - y[i]) ** 2</code>\n",
    "          </details>\n",
    "    </details>\n",
    "        \n",
    "    </details>\n",
    "\n",
    "</details>\n",
    "\n",
    "    \n"
   ]
  },
  {
   "attachments": {},
   "cell_type": "markdown",
   "metadata": {},
   "source": [
    "You can check if your implementation was correct by running the following test code:"
   ]
  },
  {
   "cell_type": "code",
   "execution_count": 14,
   "metadata": {
    "vscode": {
     "languageId": "python"
    }
   },
   "outputs": [
    {
     "name": "stdout",
     "output_type": "stream",
     "text": [
      "<class 'numpy.float64'>\n",
      "Cost at initial w (zeros): 75.203\n",
      "\u001b[92mAll tests passed!\n"
     ]
    }
   ],
   "source": [
    "# Compute cost with some initial values for paramaters w, b\n",
    "initial_w = 2\n",
    "initial_b = 1\n",
    "\n",
    "cost = compute_cost(x_train, y_train, initial_w, initial_b)\n",
    "print(type(cost))\n",
    "print(f'Cost at initial w (zeros): {cost:.3f}')\n",
    "\n",
    "# Public tests\n",
    "from public_tests import *\n",
    "compute_cost_test(compute_cost)"
   ]
  },
  {
   "attachments": {},
   "cell_type": "markdown",
   "metadata": {},
   "source": [
    "**Expected Output**:\n",
    "<table>\n",
    "  <tr>\n",
    "    <td> <b>Cost at initial w (zeros):<b> 75.203 </td> \n",
    "  </tr>\n",
    "</table>"
   ]
  },
  {
   "attachments": {},
   "cell_type": "markdown",
   "metadata": {},
   "source": [
    "<a name=\"6\"></a>\n",
    "## 6 - Gradient descent \n",
    "\n",
    "In this section, you will implement the gradient for parameters $w, b$ for linear regression. "
   ]
  },
  {
   "attachments": {},
   "cell_type": "markdown",
   "metadata": {},
   "source": [
    "As described in the lecture videos, the gradient descent algorithm is:\n",
    "\n",
    "$$\\begin{align*}& \\text{repeat until convergence:} \\; \\lbrace \\newline \\; & \\phantom {0000} b := b -  \\alpha \\frac{\\partial J(w,b)}{\\partial b} \\newline       \\; & \\phantom {0000} w := w -  \\alpha \\frac{\\partial J(w,b)}{\\partial w} \\tag{1}  \\; & \n",
    "\\newline & \\rbrace\\end{align*}$$\n",
    "\n",
    "where, parameters $w, b$ are both updated simultaniously and where  \n",
    "$$\n",
    "\\frac{\\partial J(w,b)}{\\partial b}  = \\frac{1}{m} \\sum\\limits_{i = 0}^{m-1} (f_{w,b}(x^{(i)}) - y^{(i)}) \\tag{2}\n",
    "$$\n",
    "$$\n",
    "\\frac{\\partial J(w,b)}{\\partial w}  = \\frac{1}{m} \\sum\\limits_{i = 0}^{m-1} (f_{w,b}(x^{(i)}) -y^{(i)})x^{(i)} \\tag{3}\n",
    "$$\n",
    "* m is the number of training examples in the dataset\n",
    "\n",
    "    \n",
    "*  $f_{w,b}(x^{(i)})$ is the model's prediction, while $y^{(i)}$, is the target value\n",
    "\n",
    "\n",
    "You will implement a function called `compute_gradient` which calculates $\\frac{\\partial J(w)}{\\partial w}$, $\\frac{\\partial J(w)}{\\partial b}$ "
   ]
  },
  {
   "attachments": {},
   "cell_type": "markdown",
   "metadata": {},
   "source": [
    "<a name=\"ex02\"></a>\n",
    "### Exercise 2\n",
    "\n",
    "Please complete the `compute_gradient` function to:\n",
    "\n",
    "* Iterate over the training examples, and for each example, compute:\n",
    "    * The prediction of the model for that example \n",
    "    $$\n",
    "    f_{wb}(x^{(i)}) =  wx^{(i)} + b \n",
    "    $$\n",
    "   \n",
    "    * The gradient for the parameters $w, b$ from that example \n",
    "        $$\n",
    "        \\frac{\\partial J(w,b)}{\\partial b}^{(i)}  =  (f_{w,b}(x^{(i)}) - y^{(i)}) \n",
    "        $$\n",
    "        $$\n",
    "        \\frac{\\partial J(w,b)}{\\partial w}^{(i)}  =  (f_{w,b}(x^{(i)}) -y^{(i)})x^{(i)} \n",
    "        $$\n",
    "    \n",
    "\n",
    "* Return the total gradient update from all the examples\n",
    "    $$\n",
    "    \\frac{\\partial J(w,b)}{\\partial b}  = \\frac{1}{m} \\sum\\limits_{i = 0}^{m-1} \\frac{\\partial J(w,b)}{\\partial b}^{(i)}\n",
    "    $$\n",
    "    \n",
    "    $$\n",
    "    \\frac{\\partial J(w,b)}{\\partial w}  = \\frac{1}{m} \\sum\\limits_{i = 0}^{m-1} \\frac{\\partial J(w,b)}{\\partial w}^{(i)} \n",
    "    $$\n",
    "  * Here, $m$ is the number of training examples and $\\sum$ is the summation operator\n",
    "\n",
    "If you get stuck, you can check out the hints presented after the cell below to help you with the implementation."
   ]
  },
  {
   "cell_type": "code",
   "execution_count": 19,
   "metadata": {
    "vscode": {
     "languageId": "python"
    }
   },
   "outputs": [],
   "source": [
    "# UNQ_C2\n",
    "# GRADED FUNCTION: compute_gradient\n",
    "def compute_gradient(x, y, w, b): \n",
    "    \"\"\"\n",
    "    Computes the gradient for linear regression \n",
    "    Args:\n",
    "      x (ndarray): Shape (m,) Input to the model (Population of cities) \n",
    "      y (ndarray): Shape (m,) Label (Actual profits for the cities)\n",
    "      w, b (scalar): Parameters of the model  \n",
    "    Returns\n",
    "      dj_dw (scalar): The gradient of the cost w.r.t. the parameters w\n",
    "      dj_db (scalar): The gradient of the cost w.r.t. the parameter b     \n",
    "     \"\"\"\n",
    "    \n",
    "    # Number of training examples\n",
    "    m = x.shape[0]\n",
    "    \n",
    "    # You need to return the following variables correctly\n",
    "    dj_dw = 0\n",
    "    dj_db = 0\n",
    "    f_w_b = w * x + b\n",
    "    \n",
    "    ### START CODE HERE ### \n",
    "    for i in range(m):\n",
    "        dj_db_i = f_w_b[i] - y[i]\n",
    "        dj_dw_i = (f_w_b[i] - y[i]) * x[i]\n",
    "        dj_db += dj_db_i\n",
    "        dj_dw += dj_dw_i\n",
    "    dj_db = dj_db / m\n",
    "    dj_dw = dj_dw / m\n",
    "    ### END CODE HERE ### \n",
    "        \n",
    "    return dj_dw, dj_db"
   ]
  },
  {
   "attachments": {},
   "cell_type": "markdown",
   "metadata": {},
   "source": [
    "<details>\n",
    "  <summary><font size=\"3\" color=\"darkgreen\"><b>Click for hints</b></font></summary>\n",
    "       \n",
    "    * You can represent a summation operator eg: $h = \\sum\\limits_{i = 0}^{m-1} 2i$ in code as follows:\n",
    "     ```python \n",
    "    h = 0\n",
    "    for i in range(m):\n",
    "        h = h + 2*i\n",
    "    ```\n",
    "    \n",
    "    * In this case, you can iterate over all the examples in `x` using a for loop and for each example, keep adding the gradient from that example to the variables `dj_dw` and `dj_db` which are initialized outside the loop. \n",
    "\n",
    "   * Then, you can return `dj_dw` and `dj_db` both divided by `m`.    \n",
    "    <details>\n",
    "          <summary><font size=\"2\" color=\"darkblue\"><b> Click for more hints</b></font></summary>\n",
    "        \n",
    "    * Here's how you can structure the overall implementation for this function\n",
    "    ```python \n",
    "    def compute_gradient(x, y, w, b): \n",
    "        \"\"\"\n",
    "        Computes the gradient for linear regression \n",
    "        Args:\n",
    "          x (ndarray): Shape (m,) Input to the model (Population of cities) \n",
    "          y (ndarray): Shape (m,) Label (Actual profits for the cities)\n",
    "          w, b (scalar): Parameters of the model  \n",
    "        Returns\n",
    "          dj_dw (scalar): The gradient of the cost w.r.t. the parameters w\n",
    "          dj_db (scalar): The gradient of the cost w.r.t. the parameter b     \n",
    "         \"\"\"\n",
    "    \n",
    "        # Number of training examples\n",
    "        m = x.shape[0]\n",
    "    \n",
    "        # You need to return the following variables correctly\n",
    "        dj_dw = 0\n",
    "        dj_db = 0\n",
    "    \n",
    "        ### START CODE HERE ### \n",
    "        # Loop over examples\n",
    "        for i in range(m):  \n",
    "            # Your code here to get prediction f_wb for the ith example\n",
    "            f_wb = \n",
    "            \n",
    "            # Your code here to get the gradient for w from the ith example \n",
    "            dj_dw_i = \n",
    "        \n",
    "            # Your code here to get the gradient for b from the ith example \n",
    "            dj_db_i = \n",
    "     \n",
    "            # Update dj_db : In Python, a += 1  is the same as a = a + 1\n",
    "            dj_db += dj_db_i\n",
    "        \n",
    "            # Update dj_dw\n",
    "            dj_dw += dj_dw_i\n",
    "    \n",
    "        # Divide both dj_dw and dj_db by m\n",
    "        dj_dw = dj_dw / m\n",
    "        dj_db = dj_db / m\n",
    "        ### END CODE HERE ### \n",
    "        \n",
    "        return dj_dw, dj_db\n",
    "    ```\n",
    "    \n",
    "    If you're still stuck, you can check the hints presented below to figure out how to calculate `f_wb` and `cost`.\n",
    "    \n",
    "    <details>\n",
    "          <summary><font size=\"2\" color=\"darkblue\"><b>Hint to calculate f_wb</b></font></summary>\n",
    "           &emsp; &emsp; You did this in the previous exercise! For scalars $a$, $b$ and $c$ (<code>x[i]</code>, <code>w</code> and <code>b</code> are all scalars), you can calculate the equation $h = ab + c$ in code as <code>h = a * b + c</code>\n",
    "          <details>\n",
    "              <summary><font size=\"2\" color=\"blue\"><b>&emsp; &emsp; More hints to calculate f</b></font></summary>\n",
    "               &emsp; &emsp; You can compute f_wb as <code>f_wb = w * x[i] + b </code>\n",
    "           </details>\n",
    "    </details>\n",
    "        \n",
    "    <details>\n",
    "          <summary><font size=\"2\" color=\"darkblue\"><b>Hint to calculate dj_dw_i</b></font></summary>\n",
    "           &emsp; &emsp; For scalars $a$, $b$ and $c$ (<code>f_wb</code>, <code>y[i]</code> and <code>x[i]</code> are all scalars), you can calculate the equation $h = (a - b)c$ in code as <code>h = (a-b)*c</code>\n",
    "          <details>\n",
    "              <summary><font size=\"2\" color=\"blue\"><b>&emsp; &emsp; More hints to calculate f</b></font></summary>\n",
    "               &emsp; &emsp; You can compute dj_dw_i as <code>dj_dw_i = (f_wb - y[i]) * x[i] </code>\n",
    "           </details>\n",
    "    </details>\n",
    "        \n",
    "    <details>\n",
    "          <summary><font size=\"2\" color=\"darkblue\"><b>Hint to calculate dj_db_i</b></font></summary>\n",
    "             &emsp; &emsp; You can compute dj_db_i as <code> dj_db_i = f_wb - y[i] </code>\n",
    "    </details>\n",
    "        \n",
    "    </details>\n",
    "\n",
    "</details>\n",
    "\n",
    "    \n"
   ]
  },
  {
   "attachments": {},
   "cell_type": "markdown",
   "metadata": {},
   "source": [
    "Run the cells below to check your implementation of the `compute_gradient` function with two different initializations of the parameters $w$,$b$."
   ]
  },
  {
   "cell_type": "code",
   "execution_count": 20,
   "metadata": {
    "vscode": {
     "languageId": "python"
    }
   },
   "outputs": [
    {
     "name": "stdout",
     "output_type": "stream",
     "text": [
      "Gradient at initial w, b (zeros): -65.32884974555672 -5.83913505154639\n",
      "Using X with shape (4, 1)\n",
      "\u001b[92mAll tests passed!\n"
     ]
    }
   ],
   "source": [
    "# Compute and display gradient with w initialized to zeroes\n",
    "initial_w = 0\n",
    "initial_b = 0\n",
    "\n",
    "tmp_dj_dw, tmp_dj_db = compute_gradient(x_train, y_train, initial_w, initial_b)\n",
    "print('Gradient at initial w, b (zeros):', tmp_dj_dw, tmp_dj_db)\n",
    "\n",
    "compute_gradient_test(compute_gradient)"
   ]
  },
  {
   "attachments": {},
   "cell_type": "markdown",
   "metadata": {},
   "source": [
    "Now let's run the gradient descent algorithm implemented above on our dataset.\n",
    "\n",
    "**Expected Output**:\n",
    "<table>\n",
    "  <tr>\n",
    "    <td> <b>Gradient at initial , b (zeros)<b></td>\n",
    "    <td> -65.32884975 -5.83913505154639</td> \n",
    "  </tr>\n",
    "</table>"
   ]
  },
  {
   "cell_type": "code",
   "execution_count": null,
   "metadata": {
    "vscode": {
     "languageId": "python"
    }
   },
   "outputs": [],
   "source": [
    "# Compute and display cost and gradient with non-zero w\n",
    "test_w = 0.2\n",
    "test_b = 0.2\n",
    "tmp_dj_dw, tmp_dj_db = compute_gradient(x_train, y_train, test_w, test_b)\n",
    "\n",
    "print('Gradient at test w, b:', tmp_dj_dw, tmp_dj_db)"
   ]
  },
  {
   "attachments": {},
   "cell_type": "markdown",
   "metadata": {},
   "source": [
    "**Expected Output**:\n",
    "<table>\n",
    "  <tr>\n",
    "    <td> <b>Gradient at test w<b></td>\n",
    "    <td> -47.41610118 -4.007175051546391</td> \n",
    "  </tr>\n",
    "</table>"
   ]
  },
  {
   "attachments": {},
   "cell_type": "markdown",
   "metadata": {},
   "source": [
    "<a name=\"2.6\"></a>\n",
    "### 2.6 Learning parameters using batch gradient descent \n",
    "\n",
    "You will now find the optimal parameters of a linear regression model by using batch gradient descent. Recall batch refers to running all the examples in one iteration.\n",
    "- You don't need to implement anything for this part. Simply run the cells below. \n",
    "\n",
    "- A good way to verify that gradient descent is working correctly is to look\n",
    "at the value of $J(w,b)$ and check that it is decreasing with each step. \n",
    "\n",
    "- Assuming you have implemented the gradient and computed the cost correctly and you have an appropriate value for the learning rate alpha, $J(w,b)$ should never increase and should converge to a steady value by the end of the algorithm."
   ]
  },
  {
   "cell_type": "code",
   "execution_count": 22,
   "metadata": {
    "vscode": {
     "languageId": "python"
    }
   },
   "outputs": [],
   "source": [
    "def gradient_descent(x, y, w_in, b_in, cost_function, gradient_function, alpha, num_iters): \n",
    "    \"\"\"\n",
    "    Performs batch gradient descent to learn theta. Updates theta by taking \n",
    "    num_iters gradient steps with learning rate alpha\n",
    "    \n",
    "    Args:\n",
    "      x :    (ndarray): Shape (m,)\n",
    "      y :    (ndarray): Shape (m,)\n",
    "      w_in, b_in : (scalar) Initial values of parameters of the model\n",
    "      cost_function: function to compute cost\n",
    "      gradient_function: function to compute the gradient\n",
    "      alpha : (float) Learning rate\n",
    "      num_iters : (int) number of iterations to run gradient descent\n",
    "    Returns\n",
    "      w : (ndarray): Shape (1,) Updated values of parameters of the model after\n",
    "          running gradient descent\n",
    "      b : (scalar)                Updated value of parameter of the model after\n",
    "          running gradient descent\n",
    "    \"\"\"\n",
    "    \n",
    "    # number of training examples\n",
    "    m = len(x)\n",
    "    \n",
    "    # An array to store cost J and w's at each iteration — primarily for graphing later\n",
    "    J_history = []\n",
    "    w_history = []\n",
    "    w = copy.deepcopy(w_in)  #avoid modifying global w within function\n",
    "    b = b_in\n",
    "    \n",
    "    for i in range(num_iters):\n",
    "\n",
    "        # Calculate the gradient and update the parameters\n",
    "        dj_dw, dj_db = gradient_function(x, y, w, b )  \n",
    "\n",
    "        # Update Parameters using w, b, alpha and gradient\n",
    "        w = w - alpha * dj_dw               \n",
    "        b = b - alpha * dj_db               \n",
    "\n",
    "        # Save cost J at each iteration\n",
    "        if i<100000:      # prevent resource exhaustion \n",
    "            cost =  cost_function(x, y, w, b)\n",
    "            J_history.append(cost)\n",
    "\n",
    "        # Print cost every at intervals 10 times or as many iterations if < 10\n",
    "        if i% math.ceil(num_iters/10) == 0:\n",
    "            w_history.append(w)\n",
    "            print(f\"Iteration {i:4}: Cost {float(J_history[-1]):8.2f}   \")\n",
    "        \n",
    "    return w, b, J_history, w_history #return w and J,w history for graphing"
   ]
  },
  {
   "attachments": {},
   "cell_type": "markdown",
   "metadata": {},
   "source": [
    "Now let's run the gradient descent algorithm above to learn the parameters for our dataset."
   ]
  },
  {
   "cell_type": "code",
   "execution_count": 23,
   "metadata": {
    "vscode": {
     "languageId": "python"
    }
   },
   "outputs": [
    {
     "name": "stdout",
     "output_type": "stream",
     "text": [
      "Iteration    0: Cost     6.74   \n",
      "Iteration  150: Cost     5.31   \n",
      "Iteration  300: Cost     4.96   \n",
      "Iteration  450: Cost     4.76   \n",
      "Iteration  600: Cost     4.64   \n",
      "Iteration  750: Cost     4.57   \n",
      "Iteration  900: Cost     4.53   \n",
      "Iteration 1050: Cost     4.51   \n",
      "Iteration 1200: Cost     4.50   \n",
      "Iteration 1350: Cost     4.49   \n",
      "w,b found by gradient descent: 1.166362350335582 -3.63029143940436\n"
     ]
    }
   ],
   "source": [
    "# initialize fitting parameters. Recall that the shape of w is (n,)\n",
    "initial_w = 0.\n",
    "initial_b = 0.\n",
    "\n",
    "# some gradient descent settings\n",
    "iterations = 1500\n",
    "alpha = 0.01\n",
    "\n",
    "w,b,_,_ = gradient_descent(x_train ,y_train, initial_w, initial_b, \n",
    "                     compute_cost, compute_gradient, alpha, iterations)\n",
    "print(\"w,b found by gradient descent:\", w, b)"
   ]
  },
  {
   "attachments": {},
   "cell_type": "markdown",
   "metadata": {},
   "source": [
    "**Expected Output**:\n",
    "<table>\n",
    "  <tr>\n",
    "    <td> <b> w, b found by gradient descent<b></td>\n",
    "    <td> 1.16636235 -3.63029143940436</td> \n",
    "  </tr>\n",
    "</table>"
   ]
  },
  {
   "attachments": {},
   "cell_type": "markdown",
   "metadata": {},
   "source": [
    "We will now use the final parameters from gradient descent to plot the linear fit. \n",
    "\n",
    "Recall that we can get the prediction for a single example $f(x^{(i)})= wx^{(i)}+b$. \n",
    "\n",
    "To calculate the predictions on the entire dataset, we can loop through all the training examples and calculate the prediction for each example. This is shown in the code block below."
   ]
  },
  {
   "cell_type": "code",
   "execution_count": 24,
   "metadata": {
    "vscode": {
     "languageId": "python"
    }
   },
   "outputs": [],
   "source": [
    "m = x_train.shape[0]\n",
    "predicted = np.zeros(m)\n",
    "\n",
    "for i in range(m):\n",
    "    predicted[i] = w * x_train[i] + b"
   ]
  },
  {
   "attachments": {},
   "cell_type": "markdown",
   "metadata": {},
   "source": [
    "We will now plot the predicted values to see the linear fit."
   ]
  },
  {
   "cell_type": "code",
   "execution_count": 25,
   "metadata": {
    "vscode": {
     "languageId": "python"
    }
   },
   "outputs": [
    {
     "data": {
      "text/plain": [
       "Text(0.5, 23.52222222222222, 'Population of City in 10,000s')"
      ]
     },
     "execution_count": 25,
     "metadata": {},
     "output_type": "execute_result"
    }
   ],
   "source": [
    "# Plot the linear fit\n",
    "plt.plot(x_train, predicted, c = \"b\")\n",
    "\n",
    "# Create a scatter plot of the data. \n",
    "plt.scatter(x_train, y_train, marker='x', c='r') \n",
    "\n",
    "# Set the title\n",
    "plt.title(\"Profits vs. Population per city\")\n",
    "# Set the y-axis label\n",
    "plt.ylabel('Profit in $10,000')\n",
    "# Set the x-axis label\n",
    "plt.xlabel('Population of City in 10,000s')"
   ]
  },
  {
   "attachments": {},
   "cell_type": "markdown",
   "metadata": {},
   "source": [
    "Your final values of $w,b$ can also be used to make predictions on profits. Let's predict what the profit would be in areas of 35,000 and 70,000 people. \n",
    "\n",
    "- The model takes in population of a city in 10,000s as input. \n",
    "\n",
    "- Therefore, 35,000 people can be translated into an input to the model as `np.array([3.5])`\n",
    "\n",
    "- Similarly, 70,000 people can be translated into an input to the model as `np.array([7.])`\n"
   ]
  },
  {
   "cell_type": "code",
   "execution_count": 26,
   "metadata": {
    "vscode": {
     "languageId": "python"
    }
   },
   "outputs": [
    {
     "name": "stdout",
     "output_type": "stream",
     "text": [
      "For population = 35,000, we predict a profit of $4519.77\n",
      "For population = 70,000, we predict a profit of $45342.45\n"
     ]
    }
   ],
   "source": [
    "predict1 = 3.5 * w + b\n",
    "print('For population = 35,000, we predict a profit of $%.2f' % (predict1*10000))\n",
    "\n",
    "predict2 = 7.0 * w + b\n",
    "print('For population = 70,000, we predict a profit of $%.2f' % (predict2*10000))"
   ]
  },
  {
   "attachments": {},
   "cell_type": "markdown",
   "metadata": {},
   "source": [
    "**Expected Output**:\n",
    "<table>\n",
    "  <tr>\n",
    "    <td> <b> For population = 35,000, we predict a profit of<b></td>\n",
    "    <td> $4519.77 </td> \n",
    "  </tr>\n",
    "  \n",
    "  <tr>\n",
    "    <td> <b> For population = 70,000, we predict a profit of<b></td>\n",
    "    <td> $45342.45 </td> \n",
    "  </tr>\n",
    "</table>"
   ]
  }
 ],
 "metadata": {
  "kernelspec": {
   "display_name": "Python 3 (ipykernel)",
   "language": "python",
   "name": "python3"
  }
 },
 "nbformat": 4,
 "nbformat_minor": 4
}
