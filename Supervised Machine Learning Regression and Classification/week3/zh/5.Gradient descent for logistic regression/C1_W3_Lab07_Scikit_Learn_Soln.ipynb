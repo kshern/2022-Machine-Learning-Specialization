{
 "cells": [
  {
   "attachments": {},
   "cell_type": "markdown",
   "id": "18b39615",
   "metadata": {},
   "source": [
    "# Ungraded Lab:  使用Scikit-Learn进行逻辑回归\n",
    "\n",
    "\n",
    "\n",
    "Scikit-Learn是一个流行的Python机器学习库，提供了许多机器学习算法和工具。其中之一是逻辑回归，它可以用于二进制分类问题。\n",
    "\n",
    "\n",
    "以下是一个简单的示例，演示了如何在Scikit-Learn中使用逻辑回归进行分类。首先，我们将生成一些示例数据，然后使用逻辑回归模型对其进行分类。最后，我们将绘制决策边界，以可视化模型的分类效果。\n"
   ]
  },
  {
   "attachments": {},
   "cell_type": "markdown",
   "id": "3ed248e2",
   "metadata": {},
   "source": [
    "## 目标\n",
    "在本实验中，您将：\n",
    "-  使用scikit-learn训练逻辑回归模型。\n"
   ]
  },
  {
   "attachments": {},
   "cell_type": "markdown",
   "id": "fdf4ec93",
   "metadata": {},
   "source": [
    "## 数据集\n",
    "让我们从之前使用的数据集开始。"
   ]
  },
  {
   "cell_type": "code",
   "execution_count": 3,
   "id": "6bd77325",
   "metadata": {
    "ExecuteTime": {
     "end_time": "2022-06-17T12:18:45.376791Z",
     "start_time": "2022-06-17T12:18:45.145740Z"
    }
   },
   "outputs": [
    {
     "name": "stdout",
     "output_type": "stream",
     "text": [
      "[[0.5 1.5]\n",
      " [1.  1. ]\n",
      " [1.5 0.5]\n",
      " [3.  0.5]\n",
      " [2.  2. ]\n",
      " [1.  2.5]]\n"
     ]
    }
   ],
   "source": [
    "import numpy as np\n",
    "\n",
    "X = np.array([[0.5, 1.5], [1,1], [1.5, 0.5], [3, 0.5], [2, 2], [1, 2.5]])\n",
    "y = np.array([0, 0, 0, 1, 1, 1])"
   ]
  },
  {
   "attachments": {},
   "cell_type": "markdown",
   "id": "4be16d45",
   "metadata": {},
   "source": [
    "## Fit the model\n",
    "\n",
    "The code below imports the [logistic regression model](https://scikit-learn.org/stable/modules/generated/sklearn.linear_model.LogisticRegression.html#sklearn.linear_model.LogisticRegression) from scikit-learn. You can fit this model on the training data by calling `fit` function."
   ]
  },
  {
   "cell_type": "code",
   "execution_count": 4,
   "id": "7c646265",
   "metadata": {
    "ExecuteTime": {
     "end_time": "2022-06-17T12:18:46.958883Z",
     "start_time": "2022-06-17T12:18:45.380792Z"
    }
   },
   "outputs": [
    {
     "data": {
      "text/plain": [
       "LogisticRegression()"
      ]
     },
     "execution_count": 4,
     "metadata": {},
     "output_type": "execute_result"
    }
   ],
   "source": [
    "from sklearn.linear_model import LogisticRegression\n",
    "\n",
    "lr_model = LogisticRegression()\n",
    "lr_model.fit(X, y)"
   ]
  },
  {
   "attachments": {},
   "cell_type": "markdown",
   "id": "435a45cb",
   "metadata": {},
   "source": [
    "## Make Predictions\n",
    "\n",
    "You can see the predictions made by this model by calling the `predict` function."
   ]
  },
  {
   "cell_type": "code",
   "execution_count": 5,
   "id": "a1b4c7d1",
   "metadata": {
    "ExecuteTime": {
     "end_time": "2022-06-17T12:18:46.988891Z",
     "start_time": "2022-06-17T12:18:46.964885Z"
    }
   },
   "outputs": [
    {
     "name": "stdout",
     "output_type": "stream",
     "text": [
      "Prediction on training set: [0 0 0 1 1 1]\n"
     ]
    }
   ],
   "source": [
    "y_pred = lr_model.predict(X)\n",
    "\n",
    "print(\"Prediction on training set:\", y_pred)"
   ]
  },
  {
   "attachments": {},
   "cell_type": "markdown",
   "id": "353729f2",
   "metadata": {},
   "source": [
    "## Calculate accuracy\n",
    "\n",
    "You can calculate this accuracy of this model by calling the `score` function."
   ]
  },
  {
   "cell_type": "code",
   "execution_count": 6,
   "id": "bc05a515",
   "metadata": {
    "ExecuteTime": {
     "end_time": "2022-06-17T12:18:47.004897Z",
     "start_time": "2022-06-17T12:18:46.993894Z"
    }
   },
   "outputs": [
    {
     "name": "stdout",
     "output_type": "stream",
     "text": [
      "Accuracy on training set: 1.0\n"
     ]
    }
   ],
   "source": [
    "print(\"Accuracy on training set:\", lr_model.score(X, y))"
   ]
  }
 ],
 "metadata": {
  "kernelspec": {
   "display_name": "Python 3 (ipykernel)",
   "language": "python",
   "name": "python3"
  },
  "language_info": {
   "codemirror_mode": {
    "name": "ipython",
    "version": 3
   },
   "file_extension": ".py",
   "mimetype": "text/x-python",
   "name": "python",
   "nbconvert_exporter": "python",
   "pygments_lexer": "ipython3",
   "version": "3.7.6"
  }
 },
 "nbformat": 4,
 "nbformat_minor": 5
}
